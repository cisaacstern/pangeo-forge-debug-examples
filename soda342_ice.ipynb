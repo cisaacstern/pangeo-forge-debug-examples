{
 "cells": [
  {
   "cell_type": "code",
   "execution_count": null,
   "id": "fadaab4f-81fe-44b0-a6fb-61219935bbd5",
   "metadata": {
    "tags": []
   },
   "outputs": [],
   "source": [
    "# uncomment and install `pangeo-forge-recipes` at start-up\n",
    "# !pip install git+https://github.com/pangeo-forge/pangeo-forge-recipes.git"
   ]
  },
  {
   "cell_type": "code",
   "execution_count": null,
   "id": "c1468cdb-c4c5-4729-a30d-1f2a50857c18",
   "metadata": {},
   "outputs": [],
   "source": [
    "from recipe_helpers import setup_logging, setup_targets\n",
    "from soda342_ice import recipe\n",
    "\n",
    "setup_logging()\n",
    "rec = setup_targets(recipe, name=\"soda342/5day_ice\")"
   ]
  },
  {
   "cell_type": "code",
   "execution_count": null,
   "id": "1b4a9123-792e-40a2-838e-922c4f026e75",
   "metadata": {},
   "outputs": [],
   "source": [
    "rec.prepare_target()"
   ]
  },
  {
   "cell_type": "code",
   "execution_count": null,
   "id": "1801ae4d-fb03-4048-bda2-a036b31d3b55",
   "metadata": {},
   "outputs": [],
   "source": [
    "for chunk in rec.iter_chunks():\n",
    "    rec.store_chunk(chunk)"
   ]
  }
 ],
 "metadata": {
  "kernelspec": {
   "display_name": "pangeo-forge3.8",
   "language": "python",
   "name": "pangeo-forge3.8"
  },
  "language_info": {
   "codemirror_mode": {
    "name": "ipython",
    "version": 3
   },
   "file_extension": ".py",
   "mimetype": "text/x-python",
   "name": "python",
   "nbconvert_exporter": "python",
   "pygments_lexer": "ipython3",
   "version": "3.8.8"
  }
 },
 "nbformat": 4,
 "nbformat_minor": 5
}
